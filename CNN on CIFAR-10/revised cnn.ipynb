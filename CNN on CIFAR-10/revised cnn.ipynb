{
 "cells": [
  {
   "cell_type": "code",
   "execution_count": 12,
   "metadata": {},
   "outputs": [],
   "source": [
    "from __future__ import print_function\n",
    "import keras\n",
    "import time\n",
    "import matplotlib.pyplot as plt\n",
    "import numpy as np\n",
    "from keras.datasets import cifar10\n",
    "from keras.preprocessing.image import ImageDataGenerator\n",
    "from keras.models import Sequential\n",
    "from keras.layers import Dense, Dropout, Activation, Flatten\n",
    "from keras.layers import Conv2D, MaxPooling2D\n",
    "import os\n",
    "from keras import optimizers\n",
    "from keras.optimizers import SGD\n",
    "from keras.layers.convolutional import MaxPooling2D\n",
    "from keras.layers.normalization import BatchNormalization\n",
    "from keras.utils import np_utils\n",
    "from keras import backend as K\n",
    "if K.backend()=='tensorflow':\n",
    "    K.set_image_dim_ordering(\"th\")\n",
    " \n",
    "#Import Tensorflow with multiprocessing \n",
    "\n",
    "import tensorflow as tf\n",
    "import multiprocessing as mp"
   ]
  },
  {
   "cell_type": "code",
   "execution_count": 14,
   "metadata": {},
   "outputs": [],
   "source": [
    "batch_size = 32\n",
    "num_classes = 10\n",
    "epochs = 30\n",
    "data_augmentation = True"
   ]
  },
  {
   "cell_type": "code",
   "execution_count": 15,
   "metadata": {},
   "outputs": [
    {
     "name": "stdout",
     "output_type": "stream",
     "text": [
      "x_train shape: (50000, 3, 32, 32)\n",
      "50000 train samples\n",
      "10000 test samples\n"
     ]
    }
   ],
   "source": [
    "# The data, shuffled and split between train and test sets:\n",
    "(x_train, y_train), (x_test, y_test) = cifar10.load_data()\n",
    "print('x_train shape:', x_train.shape)\n",
    "print(x_train.shape[0], 'train samples')\n",
    "print(x_test.shape[0], 'test samples')\n"
   ]
  },
  {
   "cell_type": "code",
   "execution_count": 16,
   "metadata": {},
   "outputs": [],
   "source": [
    "# Convert class vectors to binary class matrices.\n",
    "y_train = keras.utils.to_categorical(y_train, num_classes)\n",
    "y_test = keras.utils.to_categorical(y_test, num_classes)\n",
    "\n",
    "x_train = x_train.astype('float32')\n",
    "x_test = x_test.astype('float32')\n",
    "x_train  /= 255\n",
    "x_test /= 255"
   ]
  },
  {
   "cell_type": "code",
   "execution_count": 18,
   "metadata": {},
   "outputs": [],
   "source": [
    "def base_model():\n",
    "    \n",
    "    model = Sequential()\n",
    " \n",
    "    model.add(Conv2D(32, (3, 3), padding='same', activation='relu', input_shape=x_train.shape[1:]))\n",
    "    model.add(Dropout(0.2))\n",
    " \n",
    "    model.add(Conv2D(32,(3,3),padding='same', activation='relu'))\n",
    "    #model.add(BatchNormalization(axis=-1, momentum=0.99, epsilon=0.001, center=True, scale=True, \n",
    "                                    #beta_initializer='zeros', gamma_initializer='ones', moving_mean_initializer='zeros',\n",
    "                                    #moving_variance_initializer='ones', beta_regularizer=None, \n",
    "                                    #gamma_regularizer=None, beta_constraint=None, gamma_constraint=None))\n",
    "    model.add(MaxPooling2D(pool_size=(2,2)))\n",
    " \n",
    "    model.add(Conv2D(32,(3,3),padding='same',activation='relu'))\n",
    "    model.add(Dropout(0.2))\n",
    " \n",
    "    model.add(Conv2D(64,(3,3),padding='same',activation='relu'))\n",
    "    model.add(MaxPooling2D(pool_size=(2,2)))\n",
    " \n",
    "    model.add(Conv2D(128,(3,3),padding='same',activation='relu'))\n",
    "   # model.add(Dropout(0.2))\n",
    " \n",
    "    model.add(Conv2D(128,(3,3),padding='same',activation='relu'))\n",
    "    model.add(MaxPooling2D(pool_size=(2,2)))\n",
    " \n",
    "    model.add(Flatten())\n",
    "    #model.add(Dropout(0.2))\n",
    "    model.add(Dense(1024,activation='relu'))\n",
    "    #model.add(Dropout(0.2))\n",
    "    model.add(Dense(num_classes, activation='softmax'))\n",
    " \n",
    "    \n",
    "    opt = optimizers.SGD(lr=0.0008, decay=0.000, momentum=0.9, nesterov=True)\n",
    "    # Train model\n",
    " \n",
    "    model.compile(loss='categorical_crossentropy', optimizer=opt, metrics=['accuracy'])\n",
    "    return model"
   ]
  },
  {
   "cell_type": "code",
   "execution_count": 19,
   "metadata": {},
   "outputs": [
    {
     "name": "stdout",
     "output_type": "stream",
     "text": [
      "_________________________________________________________________\n",
      "Layer (type)                 Output Shape              Param #   \n",
      "=================================================================\n",
      "conv2d_7 (Conv2D)            (None, 32, 32, 32)        896       \n",
      "_________________________________________________________________\n",
      "dropout_1 (Dropout)          (None, 32, 32, 32)        0         \n",
      "_________________________________________________________________\n",
      "conv2d_8 (Conv2D)            (None, 32, 32, 32)        9248      \n",
      "_________________________________________________________________\n",
      "max_pooling2d_4 (MaxPooling2 (None, 32, 16, 16)        0         \n",
      "_________________________________________________________________\n",
      "conv2d_9 (Conv2D)            (None, 32, 16, 16)        9248      \n",
      "_________________________________________________________________\n",
      "dropout_2 (Dropout)          (None, 32, 16, 16)        0         \n",
      "_________________________________________________________________\n",
      "conv2d_10 (Conv2D)           (None, 64, 16, 16)        18496     \n",
      "_________________________________________________________________\n",
      "max_pooling2d_5 (MaxPooling2 (None, 64, 8, 8)          0         \n",
      "_________________________________________________________________\n",
      "conv2d_11 (Conv2D)           (None, 128, 8, 8)         73856     \n",
      "_________________________________________________________________\n",
      "conv2d_12 (Conv2D)           (None, 128, 8, 8)         147584    \n",
      "_________________________________________________________________\n",
      "max_pooling2d_6 (MaxPooling2 (None, 128, 4, 4)         0         \n",
      "_________________________________________________________________\n",
      "flatten_2 (Flatten)          (None, 2048)              0         \n",
      "_________________________________________________________________\n",
      "dense_3 (Dense)              (None, 1024)              2098176   \n",
      "_________________________________________________________________\n",
      "dense_4 (Dense)              (None, 10)                10250     \n",
      "=================================================================\n",
      "Total params: 2,367,754\n",
      "Trainable params: 2,367,754\n",
      "Non-trainable params: 0\n",
      "_________________________________________________________________\n"
     ]
    }
   ],
   "source": [
    "cnn_n = base_model()\n",
    "cnn_n.summary()\n"
   ]
  },
  {
   "cell_type": "code",
   "execution_count": 20,
   "metadata": {},
   "outputs": [
    {
     "name": "stdout",
     "output_type": "stream",
     "text": [
      "Using real-time data augmentation.\n"
     ]
    }
   ],
   "source": [
    "# Fit model\n",
    " \n",
    "#cnn = cnn_n.fit(x_train, y_train, batch_size=batch_size, epochs=epochs, validation_data=(x_test,y_test),shuffle=True)\n",
    "if not data_augmentation:\n",
    "    print('Not using data augmentation.')\n",
    "    cnn_n.fit(x_train, y_train,\n",
    "              batch_size=batch_size,\n",
    "              epochs=epochs,\n",
    "              validation_data=(x_test, y_test),\n",
    "              shuffle=True)\n",
    "else:\n",
    "    print('Using real-time data augmentation.')\n",
    "    # This will do preprocessing and realtime data augmentation:\n",
    "    datagen = ImageDataGenerator(\n",
    "        featurewise_center=False,  # set input mean to 0 over the dataset\n",
    "        samplewise_center=False,  # set each sample mean to 0\n",
    "        featurewise_std_normalization=False,  # divide inputs by std of the dataset\n",
    "        samplewise_std_normalization=False,  # divide each input by its std\n",
    "        zca_whitening=False,  # apply ZCA whitening\n",
    "        rotation_range=0,  # randomly rotate images in the range (degrees, 0 to 180)\n",
    "        width_shift_range=0.1,  # randomly shift images horizontally (fraction of total width)\n",
    "        height_shift_range=0.1,  # randomly shift images vertically (fraction of total height)\n",
    "        horizontal_flip=True,  # randomly flip images\n",
    "        vertical_flip=False)  # randomly flip images\n",
    "\n",
    "    # Compute quantities required for feature-wise normalization\n",
    "    # (std, mean, and principal components if ZCA whitening is applied).\n",
    "    datagen.fit(x_train)\n"
   ]
  },
  {
   "cell_type": "code",
   "execution_count": 21,
   "metadata": {},
   "outputs": [
    {
     "name": "stdout",
     "output_type": "stream",
     "text": [
      "Epoch 1/30\n",
      "1563/1563 [==============================] - 25s 16ms/step - loss: 2.0218 - acc: 0.2477 - val_loss: 1.7792 - val_acc: 0.3699\n",
      "Epoch 2/30\n",
      "1563/1563 [==============================] - 24s 15ms/step - loss: 1.7120 - acc: 0.3832 - val_loss: 1.6127 - val_acc: 0.4280\n",
      "Epoch 3/30\n",
      "1563/1563 [==============================] - 24s 16ms/step - loss: 1.5640 - acc: 0.4355 - val_loss: 1.5094 - val_acc: 0.4687\n",
      "Epoch 4/30\n",
      "1563/1563 [==============================] - 24s 15ms/step - loss: 1.4711 - acc: 0.4708 - val_loss: 1.3796 - val_acc: 0.5121\n",
      "Epoch 5/30\n",
      "1563/1563 [==============================] - 24s 15ms/step - loss: 1.3949 - acc: 0.5000 - val_loss: 1.3263 - val_acc: 0.5393\n",
      "Epoch 6/30\n",
      "1563/1563 [==============================] - 24s 15ms/step - loss: 1.3218 - acc: 0.5279 - val_loss: 1.2550 - val_acc: 0.5530\n",
      "Epoch 7/30\n",
      "1563/1563 [==============================] - 24s 15ms/step - loss: 1.2579 - acc: 0.5506 - val_loss: 1.1595 - val_acc: 0.5899\n",
      "Epoch 8/30\n",
      "1563/1563 [==============================] - 24s 16ms/step - loss: 1.1969 - acc: 0.5734 - val_loss: 1.1266 - val_acc: 0.6047\n",
      "Epoch 9/30\n",
      "1563/1563 [==============================] - 24s 15ms/step - loss: 1.1438 - acc: 0.5944 - val_loss: 1.0914 - val_acc: 0.6100\n",
      "Epoch 10/30\n",
      "1563/1563 [==============================] - 24s 15ms/step - loss: 1.1009 - acc: 0.6082 - val_loss: 1.0262 - val_acc: 0.6369\n",
      "Epoch 11/30\n",
      "1563/1563 [==============================] - 24s 15ms/step - loss: 1.0564 - acc: 0.6253 - val_loss: 0.9847 - val_acc: 0.6476\n",
      "Epoch 12/30\n",
      "1563/1563 [==============================] - 24s 16ms/step - loss: 1.0107 - acc: 0.6427 - val_loss: 0.9326 - val_acc: 0.6675\n",
      "Epoch 13/30\n",
      "1563/1563 [==============================] - 24s 15ms/step - loss: 0.9784 - acc: 0.6557 - val_loss: 0.9030 - val_acc: 0.6806\n",
      "Epoch 14/30\n",
      "1563/1563 [==============================] - 24s 15ms/step - loss: 0.9365 - acc: 0.6699 - val_loss: 0.8902 - val_acc: 0.6882\n",
      "Epoch 15/30\n",
      "1563/1563 [==============================] - 24s 15ms/step - loss: 0.9049 - acc: 0.6805 - val_loss: 0.8718 - val_acc: 0.6887\n",
      "Epoch 16/30\n",
      "1563/1563 [==============================] - 24s 15ms/step - loss: 0.8760 - acc: 0.6927 - val_loss: 0.8376 - val_acc: 0.7051\n",
      "Epoch 17/30\n",
      "1563/1563 [==============================] - 24s 15ms/step - loss: 0.8455 - acc: 0.7027 - val_loss: 0.7975 - val_acc: 0.7190\n",
      "Epoch 18/30\n",
      "1563/1563 [==============================] - 24s 15ms/step - loss: 0.8164 - acc: 0.7130 - val_loss: 0.7859 - val_acc: 0.7185\n",
      "Epoch 19/30\n",
      "1563/1563 [==============================] - 24s 16ms/step - loss: 0.7863 - acc: 0.7226 - val_loss: 0.7709 - val_acc: 0.7268\n",
      "Epoch 20/30\n",
      "1563/1563 [==============================] - 24s 15ms/step - loss: 0.7619 - acc: 0.7323 - val_loss: 0.7415 - val_acc: 0.7407\n",
      "Epoch 21/30\n",
      "1563/1563 [==============================] - 24s 15ms/step - loss: 0.7377 - acc: 0.7412 - val_loss: 0.7475 - val_acc: 0.7386\n",
      "Epoch 22/30\n",
      "1563/1563 [==============================] - 24s 15ms/step - loss: 0.7136 - acc: 0.7475 - val_loss: 0.7144 - val_acc: 0.7481\n",
      "Epoch 23/30\n",
      "1563/1563 [==============================] - 24s 15ms/step - loss: 0.6909 - acc: 0.7569 - val_loss: 0.7243 - val_acc: 0.7533\n",
      "Epoch 24/30\n",
      "1563/1563 [==============================] - 24s 15ms/step - loss: 0.6743 - acc: 0.7633 - val_loss: 0.6889 - val_acc: 0.7579\n",
      "Epoch 25/30\n",
      "1563/1563 [==============================] - 24s 15ms/step - loss: 0.6500 - acc: 0.7711 - val_loss: 0.6652 - val_acc: 0.7681\n",
      "Epoch 26/30\n",
      "1563/1563 [==============================] - 24s 15ms/step - loss: 0.6259 - acc: 0.7825 - val_loss: 0.6698 - val_acc: 0.7700\n",
      "Epoch 27/30\n",
      "1563/1563 [==============================] - 24s 15ms/step - loss: 0.6093 - acc: 0.7864 - val_loss: 0.6585 - val_acc: 0.7747\n",
      "Epoch 28/30\n",
      "1563/1563 [==============================] - 24s 15ms/step - loss: 0.5956 - acc: 0.7944 - val_loss: 0.6402 - val_acc: 0.7790\n",
      "Epoch 29/30\n",
      "1563/1563 [==============================] - 24s 15ms/step - loss: 0.5780 - acc: 0.7971 - val_loss: 0.6343 - val_acc: 0.7855\n",
      "Epoch 30/30\n",
      "1563/1563 [==============================] - 24s 16ms/step - loss: 0.5557 - acc: 0.8067 - val_loss: 0.6195 - val_acc: 0.7892\n"
     ]
    }
   ],
   "source": [
    " # Fit the model on the batches generated by datagen.flow().\n",
    "history=cnn_n.fit_generator(datagen.flow(x_train, y_train,\n",
    "                                     batch_size=batch_size),\n",
    "                        epochs=epochs,\n",
    "                        validation_data=(x_test, y_test),\n",
    "                        workers=4)"
   ]
  },
  {
   "cell_type": "code",
   "execution_count": 24,
   "metadata": {},
   "outputs": [
    {
     "name": "stdout",
     "output_type": "stream",
     "text": [
      "Saved trained model at /home/ubuntu/mynotebooks/saved_models/keras_cifar10_trained_model_revised3.h5 \n",
      "10000/10000 [==============================] - 2s 164us/step\n",
      "Test loss: 0.6194539049625397\n",
      "Test accuracy: 0.7892\n"
     ]
    }
   ],
   "source": [
    "save_dir = os.path.join(os.getcwd(), 'saved_models')\n",
    "model_name = 'keras_cifar10_trained_model_revised3.h5'\n",
    "\n",
    "# Save model and weights\n",
    "if not os.path.isdir(save_dir):\n",
    "    os.makedirs(save_dir)\n",
    "model_path = os.path.join(save_dir, model_name)\n",
    "cnn_n.save(model_path)\n",
    "print('Saved trained model at %s ' % model_path)\n",
    "\n",
    "# Score trained model.\n",
    "scores = cnn_n.evaluate(x_test, y_test, verbose=1)\n",
    "print('Test loss:', scores[0])\n",
    "print('Test accuracy:', scores[1])"
   ]
  },
  {
   "cell_type": "code",
   "execution_count": 25,
   "metadata": {},
   "outputs": [
    {
     "data": {
      "image/png": "[encoded data removed]",
      "text/plain": [
       "<matplotlib.figure.Figure at 0x7f77d1bf47f0>"
      ]
     },
     "metadata": {},
     "output_type": "display_data"
    }
   ],
   "source": [
    "loss = history.history['loss']\n",
    "val_loss = history.history['val_loss']\n",
    "\n",
    "epochs = range(1, len(loss) + 1)\n",
    "\n",
    "plt.plot(epochs, loss, 'bo', label='Training loss')\n",
    "plt.plot(epochs, val_loss, 'b', label='Validation loss')\n",
    "plt.title('Training and validation loss')\n",
    "plt.xlabel('Epochs')\n",
    "plt.ylabel('Loss')\n",
    "plt.legend()\n",
    "\n",
    "plt.show()"
   ]
  },
  {
   "cell_type": "code",
   "execution_count": 26,
   "metadata": {},
   "outputs": [
    {
     "data": {
      "image/png": "[encoded data removed]",
      "text/plain": [
       "<matplotlib.figure.Figure at 0x7f77d1c52cf8>"
      ]
     },
     "metadata": {},
     "output_type": "display_data"
    }
   ],
   "source": [
    "acc = history.history['acc']\n",
    "val_acc = history.history['val_acc']\n",
    "\n",
    "plt.plot(epochs, acc, 'bo', label='Training acc')\n",
    "plt.plot(epochs, val_acc, 'b', label='Validation acc')\n",
    "plt.title('Training and validation accuracy')\n",
    "plt.xlabel('Epochs')\n",
    "plt.ylabel('Loss')\n",
    "plt.legend()\n",
    "\n",
    "plt.show()"
   ]
  },
  {
   "cell_type": "code",
   "execution_count": 1,
   "metadata": {},
   "outputs": [
    {
     "name": "stderr",
     "output_type": "stream",
     "text": [
      "/home/ubuntu/anaconda3/envs/tensorflow_p36/lib/python3.6/site-packages/h5py/__init__.py:36: FutureWarning: Conversion of the second argument of issubdtype from `float` to `np.floating` is deprecated. In future, it will be treated as `np.float64 == np.dtype(float).type`.\n",
      "  from ._conv import register_converters as _register_converters\n",
      "Using TensorFlow backend.\n",
      "/home/ubuntu/anaconda3/envs/tensorflow_p36/lib/python3.6/site-packages/matplotlib/__init__.py:962: UserWarning: Duplicate key in file \"/home/ubuntu/.config/matplotlib/matplotlibrc\", line #2\n",
      "  (fname, cnt))\n",
      "/home/ubuntu/anaconda3/envs/tensorflow_p36/lib/python3.6/site-packages/matplotlib/__init__.py:962: UserWarning: Duplicate key in file \"/home/ubuntu/.config/matplotlib/matplotlibrc\", line #3\n",
      "  (fname, cnt))\n"
     ]
    }
   ],
   "source": [
    "from __future__ import print_function\n",
    "import keras\n",
    "import time\n",
    "import matplotlib.pyplot as plt\n",
    "import numpy as np\n",
    "from keras.datasets import cifar10\n",
    "from keras.preprocessing.image import ImageDataGenerator\n",
    "from keras.models import Sequential\n",
    "from keras.layers import Dense, Dropout, Activation, Flatten\n",
    "from keras.layers import Conv2D, MaxPooling2D\n",
    "import os\n",
    "from keras import optimizers\n",
    "from keras.optimizers import SGD\n",
    "from keras.layers.convolutional import MaxPooling2D\n",
    "from keras.layers.normalization import BatchNormalization\n",
    "from keras.utils import np_utils\n",
    "from keras import backend as K\n",
    "if K.backend()=='tensorflow':\n",
    "    K.set_image_dim_ordering(\"th\")\n",
    " \n",
    "#Import Tensorflow with multiprocessing \n",
    "\n",
    "import tensorflow as tf\n",
    "import multiprocessing as mp"
   ]
  },
  {
   "cell_type": "code",
   "execution_count": 2,
   "metadata": {},
   "outputs": [],
   "source": [
    "batch_size = 64\n",
    "num_classes = 10\n",
    "epochs = 50\n",
    "data_augmentation = True\n",
    "num_predictions = 20"
   ]
  },
  {
   "cell_type": "code",
   "execution_count": 3,
   "metadata": {},
   "outputs": [
    {
     "name": "stdout",
     "output_type": "stream",
     "text": [
      "x_train shape: (50000, 3, 32, 32)\n",
      "50000 train samples\n",
      "10000 test samples\n"
     ]
    }
   ],
   "source": [
    "# The data, shuffled and split between train and test sets:\n",
    "(x_train, y_train), (x_test, y_test) = cifar10.load_data()\n",
    "print('x_train shape:', x_train.shape)\n",
    "print(x_train.shape[0], 'train samples')\n",
    "print(x_test.shape[0], 'test samples')"
   ]
  },
  {
   "cell_type": "code",
   "execution_count": 4,
   "metadata": {},
   "outputs": [],
   "source": [
    "# Convert class vectors to binary class matrices.\n",
    "y_train = keras.utils.to_categorical(y_train, num_classes)\n",
    "y_test = keras.utils.to_categorical(y_test, num_classes)\n",
    "\n",
    "x_train = x_train.astype('float32')\n",
    "x_test = x_test.astype('float32')\n",
    "x_train  /= 255\n",
    "x_test /= 255"
   ]
  },
  {
   "cell_type": "code",
   "execution_count": 5,
   "metadata": {},
   "outputs": [],
   "source": [
    "def base_model():\n",
    "    \n",
    "    model = Sequential()\n",
    " \n",
    "    model.add(Conv2D(32, (3, 3), padding='same', activation='relu', input_shape=x_train.shape[1:]))\n",
    "    #model.add(Dropout(0.2))\n",
    " \n",
    "    model.add(Conv2D(32,(3,3),padding='same', activation='relu'))\n",
    "    model.add(BatchNormalization(axis=-1, momentum=0.99, epsilon=0.001, center=True, scale=True, \n",
    "                                    beta_initializer='zeros', gamma_initializer='ones', moving_mean_initializer='zeros',\n",
    "                                    moving_variance_initializer='ones', beta_regularizer=None, \n",
    "                                    gamma_regularizer=None, beta_constraint=None, gamma_constraint=None))\n",
    "    model.add(MaxPooling2D(pool_size=(2,2)))\n",
    " \n",
    "    model.add(Conv2D(64,(3,3),padding='same',activation='relu'))\n",
    "    #model.add(Dropout(0.4))\n",
    " \n",
    "    model.add(Conv2D(64,(3,3),padding='same',activation='relu'))\n",
    "    model.add(MaxPooling2D(pool_size=(2,2)))\n",
    " \n",
    "    model.add(Conv2D(128,(3,3),padding='same',activation='relu'))\n",
    "    #model.add(Dropout(0.2))\n",
    " \n",
    "    model.add(Conv2D(128,(3,3),padding='same',activation='relu'))\n",
    "    model.add(MaxPooling2D(pool_size=(2,2)))\n",
    "    \n",
    "    \n",
    " \n",
    "    model.add(Flatten())\n",
    "    #model.add(Dropout(0.2))\n",
    "    model.add(Dense(1024,activation='relu'))\n",
    "    #model.add(Dropout(0.2))\n",
    "    model.add(Dense(num_classes, activation='softmax'))\n",
    " \n",
    "    \n",
    "    opt = optimizers.SGD(lr=0.0008, decay=0.000, momentum=0.9, nesterov=True)\n",
    "    # Train model\n",
    " \n",
    "    model.compile(loss='categorical_crossentropy', optimizer=opt, metrics=['accuracy'])\n",
    "    return model"
   ]
  },
  {
   "cell_type": "code",
   "execution_count": 6,
   "metadata": {},
   "outputs": [
    {
     "name": "stdout",
     "output_type": "stream",
     "text": [
      "_________________________________________________________________\n",
      "Layer (type)                 Output Shape              Param #   \n",
      "=================================================================\n",
      "conv2d_1 (Conv2D)            (None, 32, 32, 32)        896       \n",
      "_________________________________________________________________\n",
      "conv2d_2 (Conv2D)            (None, 32, 32, 32)        9248      \n",
      "_________________________________________________________________\n",
      "batch_normalization_1 (Batch (None, 32, 32, 32)        128       \n",
      "_________________________________________________________________\n",
      "max_pooling2d_1 (MaxPooling2 (None, 32, 16, 16)        0         \n",
      "_________________________________________________________________\n",
      "conv2d_3 (Conv2D)            (None, 64, 16, 16)        18496     \n",
      "_________________________________________________________________\n",
      "conv2d_4 (Conv2D)            (None, 64, 16, 16)        36928     \n",
      "_________________________________________________________________\n",
      "max_pooling2d_2 (MaxPooling2 (None, 64, 8, 8)          0         \n",
      "_________________________________________________________________\n",
      "conv2d_5 (Conv2D)            (None, 128, 8, 8)         73856     \n",
      "_________________________________________________________________\n",
      "conv2d_6 (Conv2D)            (None, 128, 8, 8)         147584    \n",
      "_________________________________________________________________\n",
      "max_pooling2d_3 (MaxPooling2 (None, 128, 4, 4)         0         \n",
      "_________________________________________________________________\n",
      "flatten_1 (Flatten)          (None, 2048)              0         \n",
      "_________________________________________________________________\n",
      "dense_1 (Dense)              (None, 1024)              2098176   \n",
      "_________________________________________________________________\n",
      "dense_2 (Dense)              (None, 10)                10250     \n",
      "=================================================================\n",
      "Total params: 2,395,562\n",
      "Trainable params: 2,395,498\n",
      "Non-trainable params: 64\n",
      "_________________________________________________________________\n"
     ]
    }
   ],
   "source": [
    "cnn_n = base_model()\n",
    "cnn_n.summary()\n"
   ]
  },
  {
   "cell_type": "code",
   "execution_count": 7,
   "metadata": {},
   "outputs": [
    {
     "name": "stdout",
     "output_type": "stream",
     "text": [
      "Using real-time data augmentation.\n"
     ]
    }
   ],
   "source": [
    "# Fit model\n",
    " \n",
    "#cnn = cnn_n.fit(x_train, y_train, batch_size=batch_size, epochs=epochs, validation_data=(x_test,y_test),shuffle=True)\n",
    "if not data_augmentation:\n",
    "    print('Not using data augmentation.')\n",
    "    cnn_n.fit(x_train, y_train,\n",
    "              batch_size=batch_size,\n",
    "              epochs=epochs,\n",
    "              validation_data=(x_test, y_test),\n",
    "              shuffle=True)\n",
    "else:\n",
    "    print('Using real-time data augmentation.')\n",
    "    # This will do preprocessing and realtime data augmentation:\n",
    "    datagen = ImageDataGenerator(\n",
    "        featurewise_center=False,  # set input mean to 0 over the dataset\n",
    "        samplewise_center=False,  # set each sample mean to 0\n",
    "        featurewise_std_normalization=False,  # divide inputs by std of the dataset\n",
    "        samplewise_std_normalization=False,  # divide each input by its std\n",
    "        zca_whitening=False,  # apply ZCA whitening\n",
    "        rotation_range=0,  # randomly rotate images in the range (degrees, 0 to 180)\n",
    "        width_shift_range=0.1,  # randomly shift images horizontally (fraction of total width)\n",
    "        height_shift_range=0.1,  # randomly shift images vertically (fraction of total height)\n",
    "        horizontal_flip=True,  # randomly flip images\n",
    "        vertical_flip=False)  # randomly flip images\n",
    "\n",
    "    # Compute quantities required for feature-wise normalization\n",
    "    # (std, mean, and principal components if ZCA whitening is applied).\n",
    "    datagen.fit(x_train)\n"
   ]
  },
  {
   "cell_type": "code",
   "execution_count": 8,
   "metadata": {},
   "outputs": [
    {
     "name": "stdout",
     "output_type": "stream",
     "text": [
      "Epoch 1/50\n",
      "782/782 [==============================] - 24s 31ms/step - loss: 1.7980 - acc: 0.3435 - val_loss: 1.4531 - val_acc: 0.4788\n",
      "Epoch 2/50\n",
      "782/782 [==============================] - 23s 29ms/step - loss: 1.4021 - acc: 0.4965 - val_loss: 1.2480 - val_acc: 0.5468\n",
      "Epoch 3/50\n",
      "782/782 [==============================] - 23s 29ms/step - loss: 1.2277 - acc: 0.5613 - val_loss: 1.0882 - val_acc: 0.6092\n",
      "Epoch 4/50\n",
      "782/782 [==============================] - 22s 28ms/step - loss: 1.1107 - acc: 0.6038 - val_loss: 0.9955 - val_acc: 0.6457\n",
      "Epoch 5/50\n",
      "782/782 [==============================] - 22s 28ms/step - loss: 1.0130 - acc: 0.6424 - val_loss: 0.9514 - val_acc: 0.6582\n",
      "Epoch 6/50\n",
      "782/782 [==============================] - 22s 28ms/step - loss: 0.9402 - acc: 0.6670 - val_loss: 0.8699 - val_acc: 0.6941\n",
      "Epoch 7/50\n",
      "782/782 [==============================] - 22s 28ms/step - loss: 0.8867 - acc: 0.6881 - val_loss: 0.8006 - val_acc: 0.7214\n",
      "Epoch 8/50\n",
      "782/782 [==============================] - 22s 28ms/step - loss: 0.8267 - acc: 0.7098 - val_loss: 0.7827 - val_acc: 0.7257\n",
      "Epoch 9/50\n",
      "782/782 [==============================] - 22s 28ms/step - loss: 0.7870 - acc: 0.7252 - val_loss: 0.7573 - val_acc: 0.7346\n",
      "Epoch 10/50\n",
      "782/782 [==============================] - 23s 29ms/step - loss: 0.7461 - acc: 0.7414 - val_loss: 0.7656 - val_acc: 0.7327\n",
      "Epoch 11/50\n",
      "782/782 [==============================] - 20s 26ms/step - loss: 0.7169 - acc: 0.7493 - val_loss: 0.6823 - val_acc: 0.7623\n",
      "Epoch 12/50\n",
      "782/782 [==============================] - 22s 28ms/step - loss: 0.6829 - acc: 0.7615 - val_loss: 0.6577 - val_acc: 0.7714\n",
      "Epoch 13/50\n",
      "782/782 [==============================] - 22s 29ms/step - loss: 0.6639 - acc: 0.7680 - val_loss: 0.6533 - val_acc: 0.7729\n",
      "Epoch 14/50\n",
      "782/782 [==============================] - 22s 29ms/step - loss: 0.6372 - acc: 0.7773 - val_loss: 0.6435 - val_acc: 0.7715\n",
      "Epoch 15/50\n",
      "782/782 [==============================] - 21s 27ms/step - loss: 0.6198 - acc: 0.7845 - val_loss: 0.6251 - val_acc: 0.7821\n",
      "Epoch 16/50\n",
      "782/782 [==============================] - 22s 28ms/step - loss: 0.5983 - acc: 0.7922 - val_loss: 0.6111 - val_acc: 0.7838\n",
      "Epoch 17/50\n",
      "782/782 [==============================] - 22s 28ms/step - loss: 0.5758 - acc: 0.7993 - val_loss: 0.6207 - val_acc: 0.7871\n",
      "Epoch 18/50\n",
      "782/782 [==============================] - 21s 27ms/step - loss: 0.5611 - acc: 0.8033 - val_loss: 0.5808 - val_acc: 0.8003\n",
      "Epoch 19/50\n",
      "782/782 [==============================] - 22s 28ms/step - loss: 0.5460 - acc: 0.8105 - val_loss: 0.5905 - val_acc: 0.7952\n",
      "Epoch 20/50\n",
      "782/782 [==============================] - 22s 29ms/step - loss: 0.5275 - acc: 0.8157 - val_loss: 0.5721 - val_acc: 0.7984\n",
      "Epoch 21/50\n",
      "782/782 [==============================] - 21s 27ms/step - loss: 0.5144 - acc: 0.8195 - val_loss: 0.5695 - val_acc: 0.8005\n",
      "Epoch 22/50\n",
      "782/782 [==============================] - 23s 29ms/step - loss: 0.5016 - acc: 0.8243 - val_loss: 0.5637 - val_acc: 0.8064\n",
      "Epoch 23/50\n",
      "782/782 [==============================] - 22s 28ms/step - loss: 0.4914 - acc: 0.8291 - val_loss: 0.5461 - val_acc: 0.8126\n",
      "Epoch 24/50\n",
      "782/782 [==============================] - 22s 27ms/step - loss: 0.4773 - acc: 0.8341 - val_loss: 0.5708 - val_acc: 0.8060\n",
      "Epoch 25/50\n",
      "782/782 [==============================] - 21s 26ms/step - loss: 0.4679 - acc: 0.8365 - val_loss: 0.5485 - val_acc: 0.8094\n",
      "Epoch 26/50\n",
      "782/782 [==============================] - 22s 28ms/step - loss: 0.4539 - acc: 0.8406 - val_loss: 0.5299 - val_acc: 0.8174\n",
      "Epoch 27/50\n",
      "782/782 [==============================] - 20s 26ms/step - loss: 0.4435 - acc: 0.8444 - val_loss: 0.5516 - val_acc: 0.8129\n",
      "Epoch 28/50\n",
      "782/782 [==============================] - 22s 29ms/step - loss: 0.4316 - acc: 0.8507 - val_loss: 0.5585 - val_acc: 0.8113\n",
      "Epoch 29/50\n",
      "782/782 [==============================] - 22s 28ms/step - loss: 0.4234 - acc: 0.8521 - val_loss: 0.5344 - val_acc: 0.8178\n",
      "Epoch 30/50\n",
      "782/782 [==============================] - 22s 28ms/step - loss: 0.4130 - acc: 0.8549 - val_loss: 0.5128 - val_acc: 0.8259\n",
      "Epoch 31/50\n",
      "782/782 [==============================] - 21s 26ms/step - loss: 0.4024 - acc: 0.8588 - val_loss: 0.5260 - val_acc: 0.8243\n",
      "Epoch 32/50\n",
      "782/782 [==============================] - 23s 29ms/step - loss: 0.3978 - acc: 0.8605 - val_loss: 0.5196 - val_acc: 0.8236\n",
      "Epoch 33/50\n",
      "782/782 [==============================] - 22s 28ms/step - loss: 0.3822 - acc: 0.8654 - val_loss: 0.5401 - val_acc: 0.8204\n",
      "Epoch 34/50\n",
      "782/782 [==============================] - 20s 26ms/step - loss: 0.3754 - acc: 0.8680 - val_loss: 0.5054 - val_acc: 0.8295\n",
      "Epoch 35/50\n",
      "782/782 [==============================] - 22s 28ms/step - loss: 0.3703 - acc: 0.8711 - val_loss: 0.5445 - val_acc: 0.8224\n",
      "Epoch 36/50\n",
      "782/782 [==============================] - 22s 28ms/step - loss: 0.3636 - acc: 0.8733 - val_loss: 0.5187 - val_acc: 0.8254\n",
      "Epoch 37/50\n",
      "782/782 [==============================] - 22s 28ms/step - loss: 0.3577 - acc: 0.8749 - val_loss: 0.5027 - val_acc: 0.8321\n",
      "Epoch 38/50\n",
      "782/782 [==============================] - 22s 28ms/step - loss: 0.3499 - acc: 0.8764 - val_loss: 0.5059 - val_acc: 0.8310\n",
      "Epoch 39/50\n",
      "782/782 [==============================] - 22s 28ms/step - loss: 0.3389 - acc: 0.8810 - val_loss: 0.5106 - val_acc: 0.8314\n",
      "Epoch 40/50\n",
      "782/782 [==============================] - 23s 29ms/step - loss: 0.3325 - acc: 0.8829 - val_loss: 0.5023 - val_acc: 0.8357\n",
      "Epoch 41/50\n",
      "782/782 [==============================] - 21s 27ms/step - loss: 0.3185 - acc: 0.8880 - val_loss: 0.5236 - val_acc: 0.8283\n",
      "Epoch 42/50\n",
      "782/782 [==============================] - 22s 28ms/step - loss: 0.3108 - acc: 0.8917 - val_loss: 0.5161 - val_acc: 0.8345\n",
      "Epoch 43/50\n",
      "782/782 [==============================] - 22s 28ms/step - loss: 0.3053 - acc: 0.8935 - val_loss: 0.5170 - val_acc: 0.8332\n",
      "Epoch 44/50\n",
      "782/782 [==============================] - 20s 26ms/step - loss: 0.3011 - acc: 0.8943 - val_loss: 0.5067 - val_acc: 0.8352\n",
      "Epoch 45/50\n",
      "782/782 [==============================] - 20s 25ms/step - loss: 0.2917 - acc: 0.8973 - val_loss: 0.5135 - val_acc: 0.8347\n",
      "Epoch 46/50\n",
      "782/782 [==============================] - 22s 28ms/step - loss: 0.2910 - acc: 0.8967 - val_loss: 0.5124 - val_acc: 0.8337\n",
      "Epoch 47/50\n",
      "782/782 [==============================] - 22s 28ms/step - loss: 0.2812 - acc: 0.9004 - val_loss: 0.5176 - val_acc: 0.8303\n",
      "Epoch 48/50\n",
      "782/782 [==============================] - 21s 27ms/step - loss: 0.2769 - acc: 0.9026 - val_loss: 0.5301 - val_acc: 0.8315\n",
      "Epoch 49/50\n",
      "782/782 [==============================] - 22s 28ms/step - loss: 0.2667 - acc: 0.9067 - val_loss: 0.5049 - val_acc: 0.8408\n",
      "Epoch 50/50\n",
      "782/782 [==============================] - 22s 28ms/step - loss: 0.2666 - acc: 0.9064 - val_loss: 0.5121 - val_acc: 0.8383\n"
     ]
    }
   ],
   "source": [
    " # Fit the model on the batches generated by datagen.flow().\n",
    "history=cnn_n.fit_generator(datagen.flow(x_train, y_train,\n",
    "                                     batch_size=batch_size),\n",
    "                        epochs=epochs,\n",
    "                        validation_data=(x_test, y_test),\n",
    "                        workers=4)"
   ]
  },
  {
   "cell_type": "code",
   "execution_count": 9,
   "metadata": {},
   "outputs": [
    {
     "name": "stdout",
     "output_type": "stream",
     "text": [
      "Saved trained model at /home/ubuntu/mynotebooks/saved_models/keras_cifar10_trained_model_revised1.h5 \n",
      "10000/10000 [==============================] - 2s 175us/step\n",
      "Test loss: 0.5120789506554604\n",
      "Test accuracy: 0.8383\n"
     ]
    }
   ],
   "source": [
    "save_dir = os.path.join(os.getcwd(), 'saved_models')\n",
    "model_name = 'keras_cifar10_trained_model_revised1.h5'\n",
    "\n",
    "# Save model and weights\n",
    "if not os.path.isdir(save_dir):\n",
    "    os.makedirs(save_dir)\n",
    "model_path = os.path.join(save_dir, model_name)\n",
    "cnn_n.save(model_path)\n",
    "print('Saved trained model at %s ' % model_path)\n",
    "\n",
    "# Score trained model.\n",
    "scores = cnn_n.evaluate(x_test, y_test, verbose=1)\n",
    "print('Test loss:', scores[0])\n",
    "print('Test accuracy:', scores[1])"
   ]
  },
  {
   "cell_type": "code",
   "execution_count": 10,
   "metadata": {},
   "outputs": [
    {
     "data": {
      "image/png": "[encoded data removed]",
      "text/plain": [
       "<matplotlib.figure.Figure at 0x7f77a0704588>"
      ]
     },
     "metadata": {},
     "output_type": "display_data"
    }
   ],
   "source": [
    "loss = history.history['loss']\n",
    "val_loss = history.history['val_loss']\n",
    "\n",
    "epochs = range(1, len(loss) + 1)\n",
    "\n",
    "plt.plot(epochs, loss, 'bo', label='Training loss')\n",
    "plt.plot(epochs, val_loss, 'b', label='Validation loss')\n",
    "plt.title('Training and validation loss')\n",
    "plt.xlabel('Epochs')\n",
    "plt.ylabel('Loss')\n",
    "plt.legend()\n",
    "\n",
    "plt.show()"
   ]
  },
  {
   "cell_type": "code",
   "execution_count": 11,
   "metadata": {},
   "outputs": [
    {
     "data": {
      "image/png": "[encoded data removed]",
      "text/plain": [
       "<matplotlib.figure.Figure at 0x7f77a0704518>"
      ]
     },
     "metadata": {},
     "output_type": "display_data"
    }
   ],
   "source": [
    "acc = history.history['acc']\n",
    "val_acc = history.history['val_acc']\n",
    "\n",
    "plt.plot(epochs, acc, 'bo', label='Training acc')\n",
    "plt.plot(epochs, val_acc, 'b', label='Validation acc')\n",
    "plt.title('Training and validation accuracy')\n",
    "plt.xlabel('Epochs')\n",
    "plt.ylabel('Loss')\n",
    "plt.legend()\n",
    "\n",
    "plt.show()"
   ]
  }
 ],
 "metadata": {
  "kernelspec": {
   "display_name": "Python [conda env:tensorflow_p36]",
   "language": "python",
   "name": "conda-env-tensorflow_p36-py"
  },
  "language_info": {
   "codemirror_mode": {
    "name": "ipython",
    "version": 3
   },
   "file_extension": ".py",
   "mimetype": "text/x-python",
   "name": "python",
   "nbconvert_exporter": "python",
   "pygments_lexer": "ipython3",
   "version": "3.6.4"
  }
 },
 "nbformat": 4,
 "nbformat_minor": 2
}
