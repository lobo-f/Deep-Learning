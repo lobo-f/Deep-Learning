{
 "cells": [
  {
   "cell_type": "code",
   "execution_count": 7,
   "metadata": {},
   "outputs": [
    {
     "name": "stdout",
     "output_type": "stream",
     "text": [
      "Unique characters: ['X', ':', ')', 'I', 'f', ' ', 's', 'a', 'e', 'u', '~', 'H', '=', 'M', 'k', 'z', 'U', 'O', 'Y', 'R', '\\n', '2', '4', 'K', 'w', '+', 'v', 'm', 'N', \"'\", '5', '8', 'S', '9', 'x', 'b', '\"', 'p', 'A', '|', 'i', 'L', 'B', 'n', '^', ',', 'c', 't', '?', 'j', 'Q', 'd', '/', '#', ']', '6', '!', '0', '-', '.', 'G', 'T', 'r', '>', 'D', '3', 'l', 'J', 'q', 'E', 'W', '1', '\\\\', 'C', 'y', '_', '[', 'o', 'F', 'P', '%', 'g', '&', 'V', '7', '(', 'h']\n",
      "The data has 134156 characters, with 87 unique characters\n"
     ]
    }
   ],
   "source": [
    "#importing required packages\n",
    "import numpy as np\n",
    "import re, tarfile, random\n",
    "from functools import reduce\n",
    "import keras\n",
    "from keras.layers import Dense, Merge, Dropout, RepeatVector, Activation, recurrent\n",
    "from keras.layers.recurrent import SimpleRNN, LSTM\n",
    "from keras.layers.embeddings import Embedding\n",
    "from keras.models import Sequential\n",
    "from keras.preprocessing.sequence import pad_sequences\n",
    "from keras.utils.np_utils import to_categorical\n",
    "from keras.utils.data_utils import get_file\n",
    "from keras.callbacks import History\n",
    "from keras import backend as K\n",
    "\n",
    "#defining the temperatues for the notes \n",
    "def sample(preds, temperature):\n",
    "    # Helper function to sample an index from a probability array\n",
    "    preds = np.asarray(preds).astype('float64')\n",
    "    preds = np.log(preds) / temperature\n",
    "    exp_preds = np.exp(preds)\n",
    "    preds = exp_preds / np.sum(exp_preds)\n",
    "    probas = np.random.multinomial(1, preds, 1)\n",
    "    return np.argmax(probas)\n",
    "\n",
    "#Loading abc notation based music file\n",
    "data = open('music_abc.txt', 'r').read()\n",
    "chars = list(set(data))\n",
    "data_size, vocab_size = len(data), len(chars)\n",
    "print ('Unique characters:', chars)\n",
    "print ('The data has', data_size, 'characters, with', vocab_size, 'unique characters')\n",
    "\n",
    "#Vectorizing the data for one hot encoding\n",
    "char_to_ix = { ch:i for i,ch in enumerate(chars) }\n",
    "ix_to_char = { i:ch for i,ch in enumerate(chars) }\n",
    "train_data=data[:int(0.8*data_size)]\n",
    "val_data = data[int(0.8*data_size):]\n",
    "seq_len = 25\n",
    "\n",
    "train_data = [data[i] for i in range(len(data))]\n",
    "train_data=train_data[:-30]\n",
    "\n",
    "train_data_onehot = [list(to_categorical(char_to_ix[x],vocab_size)) for x in train_data]\n",
    "\n",
    "#Loading it to an array\n",
    "train_data_onehot = np.array(train_data_onehot)\n",
    "\n",
    "\n"
   ]
  },
  {
   "cell_type": "code",
   "execution_count": 8,
   "metadata": {},
   "outputs": [
    {
     "name": "stdout",
     "output_type": "stream",
     "text": [
      "134126\n",
      "134126\n"
     ]
    }
   ],
   "source": [
    "print(len(train_data_onehot))\n",
    "\n",
    "train_data_onehot \n",
    "print(len(train_data))"
   ]
  },
  {
   "cell_type": "code",
   "execution_count": 23,
   "metadata": {},
   "outputs": [
    {
     "name": "stdout",
     "output_type": "stream",
     "text": [
      "(5365, 25, 87)\n"
     ]
    }
   ],
   "source": [
    "#Reshaping the data for dividing into train, test and validation\n",
    "\n",
    "training_batches = np.reshape(train_data_onehot[:-1], (int(train_data_onehot.shape[0]/seq_len), seq_len, vocab_size))\n",
    "print(training_batches.shape)"
   ]
  },
  {
   "cell_type": "code",
   "execution_count": 33,
   "metadata": {},
   "outputs": [
    {
     "name": "stdout",
     "output_type": "stream",
     "text": [
      "(5365, 24, 87)\n"
     ]
    }
   ],
   "source": [
    "print(y.shape)"
   ]
  },
  {
   "cell_type": "code",
   "execution_count": 19,
   "metadata": {},
   "outputs": [
    {
     "name": "stdout",
     "output_type": "stream",
     "text": [
      "_________________________________________________________________\n",
      "Layer (type)                 Output Shape              Param #   \n",
      "=================================================================\n",
      "lstm_20 (LSTM)               (None, None, 100)         75200     \n",
      "_________________________________________________________________\n",
      "dropout_20 (Dropout)         (None, None, 100)         0         \n",
      "_________________________________________________________________\n",
      "lstm_21 (LSTM)               (None, None, 512)         1255424   \n",
      "_________________________________________________________________\n",
      "dropout_21 (Dropout)         (None, None, 512)         0         \n",
      "_________________________________________________________________\n",
      "lstm_22 (LSTM)               (None, None, 512)         2099200   \n",
      "_________________________________________________________________\n",
      "dense_12 (Dense)             (None, None, 256)         131328    \n",
      "_________________________________________________________________\n",
      "dropout_22 (Dropout)         (None, None, 256)         0         \n",
      "_________________________________________________________________\n",
      "dense_13 (Dense)             (None, None, 87)          22359     \n",
      "_________________________________________________________________\n",
      "activation_6 (Activation)    (None, None, 87)          0         \n",
      "=================================================================\n",
      "Total params: 3,583,511\n",
      "Trainable params: 3,583,511\n",
      "Non-trainable params: 0\n",
      "_________________________________________________________________\n",
      "Training\n"
     ]
    },
    {
     "name": "stderr",
     "output_type": "stream",
     "text": [
      "C:\\Users\\Dhruv Patel\\Anaconda3\\envs\\tensorflow\\lib\\site-packages\\keras\\models.py:874: UserWarning: The `nb_epoch` argument in `fit` has been renamed `epochs`.\n",
      "  warnings.warn('The `nb_epoch` argument in `fit` '\n"
     ]
    },
    {
     "name": "stdout",
     "output_type": "stream",
     "text": [
      "Train on 4292 samples, validate on 1073 samples\n",
      "Epoch 1/50\n",
      "4292/4292 [==============================] - 20s 5ms/step - loss: 3.4592 - acc: 0.1525 - val_loss: 3.0490 - val_acc: 0.2028\n",
      "Epoch 2/50\n",
      "4292/4292 [==============================] - 16s 4ms/step - loss: 2.8353 - acc: 0.2317 - val_loss: 2.4599 - val_acc: 0.3119\n",
      "Epoch 3/50\n",
      "4292/4292 [==============================] - 15s 3ms/step - loss: 2.2711 - acc: 0.3505 - val_loss: 2.0349 - val_acc: 0.4068\n",
      "Epoch 4/50\n",
      "4292/4292 [==============================] - 14s 3ms/step - loss: 1.9454 - acc: 0.4342 - val_loss: 1.7586 - val_acc: 0.4868\n",
      "Epoch 5/50\n",
      "4292/4292 [==============================] - 15s 3ms/step - loss: 1.7279 - acc: 0.4895 - val_loss: 1.6338 - val_acc: 0.5170\n",
      "Epoch 6/50\n",
      "4292/4292 [==============================] - 15s 3ms/step - loss: 1.5912 - acc: 0.5230 - val_loss: 1.5068 - val_acc: 0.5492\n",
      "Epoch 7/50\n",
      "4292/4292 [==============================] - 15s 4ms/step - loss: 1.4954 - acc: 0.5438 - val_loss: 1.4625 - val_acc: 0.5551\n",
      "Epoch 8/50\n",
      "4292/4292 [==============================] - 15s 3ms/step - loss: 1.4273 - acc: 0.5608 - val_loss: 1.4112 - val_acc: 0.5670\n",
      "Epoch 9/50\n",
      "4292/4292 [==============================] - 15s 3ms/step - loss: 1.3634 - acc: 0.5760 - val_loss: 1.3741 - val_acc: 0.5766\n",
      "Epoch 10/50\n",
      "4292/4292 [==============================] - 16s 4ms/step - loss: 1.3133 - acc: 0.5880 - val_loss: 1.3549 - val_acc: 0.5812\n",
      "Epoch 11/50\n",
      "4292/4292 [==============================] - 15s 3ms/step - loss: 1.2641 - acc: 0.6009 - val_loss: 1.3403 - val_acc: 0.5888\n",
      "Epoch 12/50\n",
      "4292/4292 [==============================] - 15s 3ms/step - loss: 1.2184 - acc: 0.6124 - val_loss: 1.3350 - val_acc: 0.5893\n",
      "Epoch 13/50\n",
      "4292/4292 [==============================] - 15s 3ms/step - loss: 1.1790 - acc: 0.6242 - val_loss: 1.3119 - val_acc: 0.5974\n",
      "Epoch 14/50\n",
      "4292/4292 [==============================] - 15s 3ms/step - loss: 1.1363 - acc: 0.6348 - val_loss: 1.3140 - val_acc: 0.5972\n",
      "Epoch 15/50\n",
      "4292/4292 [==============================] - 15s 3ms/step - loss: 1.0937 - acc: 0.6474 - val_loss: 1.3177 - val_acc: 0.6019\n",
      "Epoch 16/50\n",
      "4292/4292 [==============================] - 15s 3ms/step - loss: 1.0533 - acc: 0.6581 - val_loss: 1.3224 - val_acc: 0.5998\n",
      "Epoch 17/50\n",
      "4292/4292 [==============================] - 14s 3ms/step - loss: 1.0135 - acc: 0.6706 - val_loss: 1.3262 - val_acc: 0.6071\n",
      "Epoch 18/50\n",
      "4292/4292 [==============================] - 15s 3ms/step - loss: 0.9714 - acc: 0.6838 - val_loss: 1.3346 - val_acc: 0.6065\n",
      "Epoch 19/50\n",
      "4292/4292 [==============================] - 15s 3ms/step - loss: 0.9323 - acc: 0.6952 - val_loss: 1.3592 - val_acc: 0.6024\n",
      "Epoch 20/50\n",
      "4292/4292 [==============================] - 15s 3ms/step - loss: 0.8941 - acc: 0.7076 - val_loss: 1.3735 - val_acc: 0.6032\n",
      "Epoch 21/50\n",
      "4292/4292 [==============================] - 15s 3ms/step - loss: 0.8583 - acc: 0.7189 - val_loss: 1.3948 - val_acc: 0.6035\n",
      "Epoch 22/50\n",
      "4292/4292 [==============================] - 14s 3ms/step - loss: 0.8197 - acc: 0.7304 - val_loss: 1.4230 - val_acc: 0.6023\n",
      "Epoch 23/50\n",
      "4292/4292 [==============================] - 15s 3ms/step - loss: 0.7835 - acc: 0.7430 - val_loss: 1.4555 - val_acc: 0.5992\n",
      "Epoch 24/50\n",
      "4292/4292 [==============================] - 15s 4ms/step - loss: 0.7473 - acc: 0.7550 - val_loss: 1.4941 - val_acc: 0.5939\n",
      "Epoch 25/50\n",
      "4292/4292 [==============================] - 15s 3ms/step - loss: 0.7109 - acc: 0.7660 - val_loss: 1.5170 - val_acc: 0.5977\n",
      "Epoch 26/50\n",
      "4292/4292 [==============================] - 14s 3ms/step - loss: 0.6844 - acc: 0.7737 - val_loss: 1.5603 - val_acc: 0.5991\n",
      "Epoch 27/50\n",
      "4292/4292 [==============================] - 15s 4ms/step - loss: 0.6546 - acc: 0.7848 - val_loss: 1.5908 - val_acc: 0.5918\n",
      "Epoch 28/50\n",
      "4292/4292 [==============================] - 15s 4ms/step - loss: 0.6296 - acc: 0.7934 - val_loss: 1.6186 - val_acc: 0.5962\n",
      "Epoch 29/50\n",
      "4292/4292 [==============================] - 15s 3ms/step - loss: 0.6030 - acc: 0.8019 - val_loss: 1.6590 - val_acc: 0.5965\n",
      "Epoch 30/50\n",
      "4292/4292 [==============================] - 15s 3ms/step - loss: 0.5805 - acc: 0.8099 - val_loss: 1.6818 - val_acc: 0.5912\n",
      "Epoch 31/50\n",
      "4292/4292 [==============================] - 15s 3ms/step - loss: 0.5556 - acc: 0.8168 - val_loss: 1.7239 - val_acc: 0.5946\n",
      "Epoch 32/50\n",
      "4292/4292 [==============================] - 14s 3ms/step - loss: 0.5373 - acc: 0.8234 - val_loss: 1.7532 - val_acc: 0.5935\n",
      "Epoch 33/50\n",
      "4292/4292 [==============================] - 14s 3ms/step - loss: 0.5206 - acc: 0.8295 - val_loss: 1.7667 - val_acc: 0.5956\n",
      "Epoch 34/50\n",
      "4292/4292 [==============================] - 14s 3ms/step - loss: 0.5071 - acc: 0.8341 - val_loss: 1.8276 - val_acc: 0.5921\n",
      "Epoch 35/50\n",
      "4292/4292 [==============================] - 15s 3ms/step - loss: 0.4911 - acc: 0.8401 - val_loss: 1.8464 - val_acc: 0.5921\n",
      "Epoch 36/50\n",
      "4292/4292 [==============================] - 15s 3ms/step - loss: 0.4755 - acc: 0.8461 - val_loss: 1.8453 - val_acc: 0.5910\n",
      "Epoch 37/50\n",
      "4292/4292 [==============================] - 15s 3ms/step - loss: 0.4649 - acc: 0.8492 - val_loss: 1.8838 - val_acc: 0.5897\n",
      "Epoch 38/50\n",
      "4292/4292 [==============================] - 14s 3ms/step - loss: 0.4540 - acc: 0.8524 - val_loss: 1.9305 - val_acc: 0.5894\n",
      "Epoch 39/50\n",
      "4292/4292 [==============================] - 14s 3ms/step - loss: 0.4430 - acc: 0.8550 - val_loss: 1.9430 - val_acc: 0.5912\n",
      "Epoch 40/50\n",
      "4292/4292 [==============================] - 14s 3ms/step - loss: 0.4356 - acc: 0.8577 - val_loss: 1.9623 - val_acc: 0.5938\n",
      "Epoch 41/50\n",
      "4292/4292 [==============================] - 14s 3ms/step - loss: 0.4260 - acc: 0.8615 - val_loss: 1.9997 - val_acc: 0.5914\n",
      "Epoch 42/50\n",
      "4292/4292 [==============================] - 15s 3ms/step - loss: 0.4176 - acc: 0.8650 - val_loss: 2.0125 - val_acc: 0.5898\n",
      "Epoch 43/50\n",
      "4292/4292 [==============================] - 15s 4ms/step - loss: 0.4105 - acc: 0.8663 - val_loss: 2.0175 - val_acc: 0.5916\n",
      "Epoch 44/50\n",
      "4292/4292 [==============================] - 14s 3ms/step - loss: 0.4038 - acc: 0.8698 - val_loss: 2.0362 - val_acc: 0.5870\n",
      "Epoch 45/50\n",
      "4292/4292 [==============================] - 15s 3ms/step - loss: 0.3988 - acc: 0.8707 - val_loss: 2.0531 - val_acc: 0.5933\n",
      "Epoch 46/50\n",
      "4292/4292 [==============================] - 15s 4ms/step - loss: 0.3954 - acc: 0.8715 - val_loss: 2.0862 - val_acc: 0.5904\n",
      "Epoch 47/50\n",
      "4292/4292 [==============================] - 15s 4ms/step - loss: 0.3882 - acc: 0.8745 - val_loss: 2.0796 - val_acc: 0.5915\n",
      "Epoch 48/50\n",
      "4292/4292 [==============================] - 15s 3ms/step - loss: 0.3800 - acc: 0.8762 - val_loss: 2.1017 - val_acc: 0.5892\n",
      "Epoch 49/50\n",
      "4292/4292 [==============================] - 15s 3ms/step - loss: 0.3791 - acc: 0.8772 - val_loss: 2.1064 - val_acc: 0.5878\n",
      "Epoch 50/50\n",
      "4292/4292 [==============================] - 14s 3ms/step - loss: 0.3750 - acc: 0.8785 - val_loss: 2.0982 - val_acc: 0.5885\n",
      "Generating with seed: \"X: 1 \n",
      "T:A and D \n",
      "% Nottin\"\n",
      "(900, 100)\n"
     ]
    }
   ],
   "source": [
    "#Splitting the data\n",
    "\n",
    "X = training_batches[:,:-1,:]\n",
    "y = training_batches[:,1:,:]\n",
    "train_len=int(0.8*training_batches.shape[0])\n",
    "X_train = X[:train_len,:,:]\n",
    "y_train = y[:train_len,:,:]\n",
    "X_valid = X[train_len:,:,:]\n",
    "y_valid = y[train_len:,:,:]\n",
    "\n",
    "#Converting to the string\n",
    "convert2String = lambda y: ''.join([ix_to_char[x[0]] for x in list(np.reshape(np.argmax(y, axis=2), (-1,1)))])\n",
    "\n",
    "#Defining the model\n",
    "epochs=50\n",
    "input_dim = vocab_size\n",
    "hidden_dim = 100\n",
    "output_dim = vocab_size\n",
    "rnn_model = Sequential()\n",
    "rnn_model.add(SimpleRNN(hidden_dim,\n",
    "                        activation='tanh', return_sequences = True, input_shape = (None,vocab_size))) \n",
    "rnn_model = Sequential()\n",
    "rnn_model.add(LSTM(hidden_dim,input_shape=(None,vocab_size),return_sequences=True))\n",
    "rnn_model.add(Dropout(0.3))\n",
    "rnn_model.add(LSTM(512, input_shape=(None,vocab_size),return_sequences=True))\n",
    "rnn_model.add(Dropout(0.3))\n",
    "rnn_model.add(LSTM(512, input_shape=(None,vocab_size),return_sequences=True))\n",
    "rnn_model.add(Dense(256))\n",
    "rnn_model.add(Dropout(0.3))\n",
    "rnn_model.add(Dense(output_dim))\n",
    "rnn_model.add(Activation('softmax'))\n",
    "rnn_model.compile(loss='categorical_crossentropy', optimizer='rmsprop', metrics=['accuracy'])\n",
    "\n",
    "rnn_model.summary()\n",
    "\n",
    "print('Training')\n",
    "\n",
    "#Compiling the model\n",
    "history = rnn_model.fit(X_train,y_train, batch_size=50, nb_epoch=epochs, validation_data=(X_valid,y_valid))\n",
    "\n",
    "# Function to get lstm rnn layer output\n",
    "get_rnn_layer_output = K.function([rnn_model.layers[0].input], [rnn_model.layers[0].output])\n",
    "\n",
    "prime_len = 25\n",
    "gen_len = 900\n",
    "start_index = 0\n",
    "d =0\n",
    "rnn_activations = []\n",
    "for T in [1.0]:\n",
    "    d +=1\n",
    "    generated = ''\n",
    "    sentence = data[start_index: start_index + prime_len]\n",
    "    generated += sentence\n",
    "    print ('Generating with seed: \"' + sentence + '\"')\n",
    "\n",
    "    for i in range(gen_len):\n",
    "        x = np.zeros((1, prime_len, len(chars)))\n",
    "        for t, char in enumerate(sentence):\n",
    "            x[0, t, char_to_ix[char]] = 1.\n",
    "\n",
    "        preds = rnn_model.predict(x, verbose=0)[0]\n",
    "        layer_output = get_rnn_layer_output([x])[0]\n",
    "        rnn_activations.append(layer_output[0][-1])\n",
    "        next_index = sample(preds[-1], T)\n",
    "        next_char = ix_to_char[next_index]\n",
    "\n",
    "        generated += next_char\n",
    "        sentence = sentence[1:] + next_char\n",
    "\n",
    "    f= open('pred_feature3' +'_'+ str(T)+ '_' + str(d) + '.txt','w')\n",
    "    f.write(generated)\n",
    "    f.close()\n",
    "    rnn_activations = np.array(rnn_activations)\n",
    "    print(rnn_activations.shape)\n",
    "    np.savetxt('rnn_activations_pred',rnn_activations,delimiter =',')"
   ]
  },
  {
   "cell_type": "code",
   "execution_count": 21,
   "metadata": {},
   "outputs": [
    {
     "data": {
      "image/png": "[encoded data removed]",
      "text/plain": [
       "<matplotlib.figure.Figure at 0x1be047f5c88>"
      ]
     },
     "metadata": {},
     "output_type": "display_data"
    },
    {
     "data": {
      "image/png": "[encoded data removed]",
      "text/plain": [
       "<matplotlib.figure.Figure at 0x1be04808630>"
      ]
     },
     "metadata": {},
     "output_type": "display_data"
    }
   ],
   "source": [
    "import matplotlib.pyplot as plt\n",
    "#Validation Graph\n",
    "loss = history.history['loss']\n",
    "val_loss = history.history['val_loss']\n",
    "\n",
    "epochs = range(1, len(loss) + 1)\n",
    "\n",
    "plt.plot(epochs, loss, 'bo', label='Training loss')\n",
    "plt.plot(epochs, val_loss, 'b', label='Validation loss')\n",
    "plt.title('Training and validation loss')\n",
    "plt.xlabel('Epochs')\n",
    "plt.ylabel('Loss')\n",
    "plt.legend()\n",
    "\n",
    "plt.show()\n",
    "\n",
    "#Accuracy Graph\n",
    "plt.clf()   # clear figure\n",
    "\n",
    "acc = history.history['acc']\n",
    "val_acc = history.history['val_acc']\n",
    "\n",
    "plt.plot(epochs, acc, 'bo', label='Training acc')\n",
    "plt.plot(epochs, val_acc, 'b', label='Validation acc')\n",
    "plt.title('Training and validation accuracy')\n",
    "plt.xlabel('Epochs')\n",
    "plt.ylabel('Loss')\n",
    "plt.legend()\n",
    "\n",
    "plt.show()"
   ]
  }
 ],
 "metadata": {
  "kernelspec": {
   "display_name": "Python 3",
   "language": "python",
   "name": "python3"
  },
  "language_info": {
   "codemirror_mode": {
    "name": "ipython",
    "version": 3
   },
   "file_extension": ".py",
   "mimetype": "text/x-python",
   "name": "python",
   "nbconvert_exporter": "python",
   "pygments_lexer": "ipython3",
   "version": "3.5.4"
  }
 },
 "nbformat": 4,
 "nbformat_minor": 2
}
